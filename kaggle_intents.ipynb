{
  "nbformat": 4,
  "nbformat_minor": 0,
  "metadata": {
    "colab": {
      "provenance": [],
      "toc_visible": true,
      "authorship_tag": "ABX9TyOogS45ClhOR7/KgwGLlXaz",
      "include_colab_link": true
    },
    "kernelspec": {
      "name": "python3",
      "display_name": "Python 3"
    },
    "language_info": {
      "name": "python"
    }
  },
  "cells": [
    {
      "cell_type": "markdown",
      "metadata": {
        "id": "view-in-github",
        "colab_type": "text"
      },
      "source": [
        "<a href=\"https://colab.research.google.com/github/FAMAS73/machine-learning/blob/main/kaggle_intents.ipynb\" target=\"_parent\"><img src=\"https://colab.research.google.com/assets/colab-badge.svg\" alt=\"Open In Colab\"/></a>"
      ]
    },
    {
      "cell_type": "code",
      "execution_count": 19,
      "metadata": {
        "colab": {
          "base_uri": "https://localhost:8080/"
        },
        "id": "UksrFnN1zw_G",
        "outputId": "57879ad3-f1a8-4282-9b69-efeb50ac5c0b"
      },
      "outputs": [
        {
          "output_type": "stream",
          "name": "stdout",
          "text": [
            "Training data shape: (185, 18)\n",
            "Training labels shape: (185, 80)\n",
            "Validation data shape: (47, 18)\n",
            "Validation labels shape: (47, 80)\n"
          ]
        }
      ],
      "source": [
        "import json\n",
        "import numpy as np\n",
        "from sklearn.model_selection import train_test_split\n",
        "from tensorflow.keras.preprocessing.text import Tokenizer\n",
        "from tensorflow.keras.preprocessing.sequence import pad_sequences\n",
        "from collections import Counter\n",
        "\n",
        "from sklearn.preprocessing import LabelEncoder\n",
        "\n",
        "# Load intents from JSON file\n",
        "with open('intents.json') as file:\n",
        "    data = json.load(file)\n",
        "\n",
        "# Extract intent tags and patterns\n",
        "intents = data['intents']\n",
        "patterns = []\n",
        "tags = []\n",
        "responses = []\n",
        "for intent in intents:\n",
        "    for pattern in intent['patterns']:\n",
        "        patterns.append(pattern)\n",
        "        tags.append(intent['tag'])\n",
        "    responses.extend(intent['responses'])\n",
        "\n",
        "# Tokenize text data\n",
        "tokenizer = Tokenizer()\n",
        "tokenizer.fit_on_texts(patterns)\n",
        "word_index = tokenizer.word_index\n",
        "vocab_size = len(word_index) + 1\n",
        "\n",
        "# Pad sequences\n",
        "max_sequence_length = max([len(pattern.split()) for pattern in patterns])\n",
        "sequences = tokenizer.texts_to_sequences(patterns)\n",
        "padded_sequences = pad_sequences(sequences, maxlen=max_sequence_length, padding='post')\n",
        "\n",
        "\n",
        "# Encode the tags using LabelEncoder\n",
        "label_encoder = LabelEncoder()\n",
        "encoded_tags = label_encoder.fit_transform(tags)\n",
        "# Convert encoded tags to one-hot encoded labels\n",
        "tag_labels = np.zeros((len(tags), len(set(encoded_tags))))\n",
        "for i, tag in enumerate(encoded_tags):\n",
        "    tag_labels[i, tag] = 1\n",
        "\n",
        "# Split data into training and validation sets\n",
        "X_train, X_val, y_train, y_val = train_test_split(padded_sequences, tag_labels, test_size=0.2, random_state=42)\n",
        "\n",
        "# Display the shapes of the training and validation sets\n",
        "print(\"Training data shape:\", X_train.shape)\n",
        "print(\"Training labels shape:\", y_train.shape)\n",
        "print(\"Validation data shape:\", X_val.shape)\n",
        "print(\"Validation labels shape:\", y_val.shape)\n",
        "\n",
        "\n"
      ]
    },
    {
      "cell_type": "code",
      "source": [
        "from tensorflow.keras.models import Sequential\n",
        "from tensorflow.keras.layers import Embedding, SimpleRNN, Dense\n",
        "\n",
        "# Define RNN model\n",
        "model = Sequential()\n",
        "model.add(Embedding(vocab_size, 128, input_length=max_sequence_length))\n",
        "model.add(SimpleRNN(128))\n",
        "model.add(Dense(len(set(tags)), activation='softmax'))\n",
        "\n",
        "# Compile the model\n",
        "model.compile(loss='categorical_crossentropy', optimizer='adam', metrics=['accuracy'])\n",
        "\n",
        "# Display the model summary\n",
        "print(model.summary())\n"
      ],
      "metadata": {
        "colab": {
          "base_uri": "https://localhost:8080/"
        },
        "id": "okB4WLO-71bD",
        "outputId": "5c4edc86-7a57-4263-e104-5bf91c4ddb89"
      },
      "execution_count": 20,
      "outputs": [
        {
          "output_type": "stream",
          "name": "stdout",
          "text": [
            "Model: \"sequential_8\"\n",
            "_________________________________________________________________\n",
            " Layer (type)                Output Shape              Param #   \n",
            "=================================================================\n",
            " embedding_8 (Embedding)     (None, 18, 128)           38912     \n",
            "                                                                 \n",
            " simple_rnn (SimpleRNN)      (None, 128)               32896     \n",
            "                                                                 \n",
            " dense_14 (Dense)            (None, 80)                10320     \n",
            "                                                                 \n",
            "=================================================================\n",
            "Total params: 82128 (320.81 KB)\n",
            "Trainable params: 82128 (320.81 KB)\n",
            "Non-trainable params: 0 (0.00 Byte)\n",
            "_________________________________________________________________\n",
            "None\n"
          ]
        }
      ]
    },
    {
      "cell_type": "code",
      "source": [
        "# Train the model\n",
        "history = model.fit(X_train, y_train, epochs=20, batch_size=32, validation_data=(X_val, y_val))\n"
      ],
      "metadata": {
        "colab": {
          "base_uri": "https://localhost:8080/"
        },
        "id": "YkDL8bGF77l-",
        "outputId": "596699e8-abec-440e-87dd-24f9262f06ae"
      },
      "execution_count": 21,
      "outputs": [
        {
          "output_type": "stream",
          "name": "stdout",
          "text": [
            "Epoch 1/20\n",
            "6/6 [==============================] - 2s 83ms/step - loss: 4.3777 - accuracy: 0.0216 - val_loss: 4.3652 - val_accuracy: 0.0213\n",
            "Epoch 2/20\n",
            "6/6 [==============================] - 0s 20ms/step - loss: 4.1373 - accuracy: 0.1027 - val_loss: 4.2816 - val_accuracy: 0.0426\n",
            "Epoch 3/20\n",
            "6/6 [==============================] - 0s 18ms/step - loss: 3.8029 - accuracy: 0.2595 - val_loss: 4.2126 - val_accuracy: 0.0426\n",
            "Epoch 4/20\n",
            "6/6 [==============================] - 0s 21ms/step - loss: 3.4589 - accuracy: 0.2757 - val_loss: 3.9990 - val_accuracy: 0.0851\n",
            "Epoch 5/20\n",
            "6/6 [==============================] - 0s 20ms/step - loss: 3.0543 - accuracy: 0.4541 - val_loss: 3.9243 - val_accuracy: 0.1064\n",
            "Epoch 6/20\n",
            "6/6 [==============================] - 0s 18ms/step - loss: 2.5816 - accuracy: 0.6270 - val_loss: 3.8223 - val_accuracy: 0.1489\n",
            "Epoch 7/20\n",
            "6/6 [==============================] - 0s 21ms/step - loss: 2.1619 - accuracy: 0.7784 - val_loss: 3.7781 - val_accuracy: 0.1277\n",
            "Epoch 8/20\n",
            "6/6 [==============================] - 0s 22ms/step - loss: 1.7590 - accuracy: 0.8486 - val_loss: 3.6784 - val_accuracy: 0.1064\n",
            "Epoch 9/20\n",
            "6/6 [==============================] - 0s 20ms/step - loss: 1.4087 - accuracy: 0.9135 - val_loss: 3.6228 - val_accuracy: 0.1702\n",
            "Epoch 10/20\n",
            "6/6 [==============================] - 0s 18ms/step - loss: 1.1302 - accuracy: 0.9459 - val_loss: 3.6083 - val_accuracy: 0.1702\n",
            "Epoch 11/20\n",
            "6/6 [==============================] - 0s 25ms/step - loss: 0.8993 - accuracy: 0.9514 - val_loss: 3.6396 - val_accuracy: 0.1489\n",
            "Epoch 12/20\n",
            "6/6 [==============================] - 0s 21ms/step - loss: 0.7125 - accuracy: 0.9784 - val_loss: 3.6243 - val_accuracy: 0.1915\n",
            "Epoch 13/20\n",
            "6/6 [==============================] - 0s 22ms/step - loss: 0.5734 - accuracy: 0.9730 - val_loss: 3.6271 - val_accuracy: 0.1702\n",
            "Epoch 14/20\n",
            "6/6 [==============================] - 0s 21ms/step - loss: 0.4716 - accuracy: 0.9838 - val_loss: 3.6555 - val_accuracy: 0.1915\n",
            "Epoch 15/20\n",
            "6/6 [==============================] - 0s 18ms/step - loss: 0.3836 - accuracy: 0.9892 - val_loss: 3.6783 - val_accuracy: 0.1702\n",
            "Epoch 16/20\n",
            "6/6 [==============================] - 0s 22ms/step - loss: 0.3176 - accuracy: 0.9892 - val_loss: 3.6969 - val_accuracy: 0.1489\n",
            "Epoch 17/20\n",
            "6/6 [==============================] - 0s 18ms/step - loss: 0.2667 - accuracy: 0.9892 - val_loss: 3.7716 - val_accuracy: 0.1702\n",
            "Epoch 18/20\n",
            "6/6 [==============================] - 0s 20ms/step - loss: 0.2331 - accuracy: 0.9946 - val_loss: 3.7749 - val_accuracy: 0.1489\n",
            "Epoch 19/20\n",
            "6/6 [==============================] - 0s 22ms/step - loss: 0.1974 - accuracy: 1.0000 - val_loss: 3.8249 - val_accuracy: 0.1489\n",
            "Epoch 20/20\n",
            "6/6 [==============================] - 0s 20ms/step - loss: 0.1700 - accuracy: 1.0000 - val_loss: 3.8169 - val_accuracy: 0.1489\n"
          ]
        }
      ]
    },
    {
      "cell_type": "code",
      "source": [
        "# Evaluate the model\n",
        "loss, accuracy = model.evaluate(X_val, y_val)\n",
        "print(\"Validation loss:\", loss)\n",
        "print(\"Validation accuracy:\", accuracy)\n"
      ],
      "metadata": {
        "colab": {
          "base_uri": "https://localhost:8080/"
        },
        "id": "jBZrB6GX8hEZ",
        "outputId": "7c8f8e56-813c-4a9e-8736-57fc4b849266"
      },
      "execution_count": 22,
      "outputs": [
        {
          "output_type": "stream",
          "name": "stdout",
          "text": [
            "2/2 [==============================] - 0s 8ms/step - loss: 3.8169 - accuracy: 0.1489\n",
            "Validation loss: 3.8169100284576416\n",
            "Validation accuracy: 0.1489361673593521\n"
          ]
        }
      ]
    }
  ]
}